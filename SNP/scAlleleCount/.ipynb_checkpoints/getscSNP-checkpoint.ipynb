{
 "cells": [
  {
   "cell_type": "code",
   "execution_count": 2,
   "id": "0790ba25",
   "metadata": {},
   "outputs": [
    {
     "name": "stdout",
     "output_type": "stream",
     "text": [
      "Collecting pysam\n",
      "  Downloading pysam-0.21.0.tar.gz (4.1 MB)\n",
      "\u001b[K     |████████████████████████████████| 4.1 MB 31.2 MB/s eta 0:00:01\n",
      "\u001b[?25h  Installing build dependencies ... \u001b[?25ldone\n",
      "\u001b[?25h  Getting requirements to build wheel ... \u001b[?25ldone\n",
      "\u001b[?25h    Preparing wheel metadata ... \u001b[?25ldone\n",
      "\u001b[?25hRequirement already satisfied: cython in /home/robbenm/.local/lib/python3.8/site-packages (from pysam) (0.29.33)\n",
      "Building wheels for collected packages: pysam\n",
      "  Building wheel for pysam (PEP 517) ... \u001b[?25ldone\n",
      "\u001b[?25h  Created wheel for pysam: filename=pysam-0.21.0-cp38-cp38-linux_x86_64.whl size=18927007 sha256=c351b5b9023c59d968411c2a17dc57cbabf639c43cd2808a7a73e1124cc6b5a4\n",
      "  Stored in directory: /home/robbenm/.cache/pip/wheels/54/47/b6/770bc12f53f9afca8caf2cd80c939f927c8e701a0199a74ef1\n",
      "Successfully built pysam\n",
      "Installing collected packages: pysam\n",
      "Successfully installed pysam-0.21.0\n"
     ]
    }
   ],
   "source": [
    "#!pip install pysam\n"
   ]
  },
  {
   "cell_type": "code",
   "execution_count": 2,
   "id": "5d2608ed",
   "metadata": {},
   "outputs": [],
   "source": [
    "import pandas as pd\n",
    "import pysam\n",
    "import sys\n",
    "import scipy\n",
    "import scipy.io\n",
    "import scipy.sparse\n",
    "import numpy\n",
    "import os.path"
   ]
  },
  {
   "cell_type": "code",
   "execution_count": 3,
   "id": "e209b1d9",
   "metadata": {},
   "outputs": [
    {
     "name": "stdout",
     "output_type": "stream",
     "text": [
      "               chr     pos ref alt           posindex\n",
      "0       CM000276.3    7012   T   A    CM000276.3:7012\n",
      "1       CM000276.3   35088   T   G   CM000276.3:35088\n",
      "2       CM000276.3   46006   G   T   CM000276.3:46006\n",
      "3       CM000276.3   50734   G   A   CM000276.3:50734\n",
      "4       CM000276.3   68730   C   T   CM000276.3:68730\n",
      "...            ...     ...  ..  ..                ...\n",
      "107091  KQ973453.1  256005   A   G  KQ973453.1:256005\n",
      "107092  KQ973453.1  256360   T   C  KQ973453.1:256360\n",
      "107093  KQ973453.1  256524   T   A  KQ973453.1:256524\n",
      "107094  KQ973453.1  256527   G   A  KQ973453.1:256527\n",
      "107095  KQ973453.1  256544   G   T  KQ973453.1:256544\n",
      "\n",
      "[107096 rows x 5 columns]\n"
     ]
    }
   ],
   "source": [
    "postable = pd.read_table(\"/home/robbenm/LuberLab/Beetle/SNP/snps_fixed.txt\", header=None, sep='\\t', names=['chr','pos','ref','alt'])\n",
    "postable[\"posindex\"] = postable[\"chr\"].map(str) + ':' +  postable[\"pos\"].map(str)\n",
    "print(postable)"
   ]
  },
  {
   "cell_type": "code",
   "execution_count": 4,
   "id": "eed73450",
   "metadata": {},
   "outputs": [],
   "source": [
    "pos_index = {}\n",
    "for index, row in postable.iterrows():\n",
    "    pos_index[row['posindex']] = index;"
   ]
  },
  {
   "cell_type": "code",
   "execution_count": 5,
   "id": "dacdd918",
   "metadata": {},
   "outputs": [
    {
     "name": "stdout",
     "output_type": "stream",
     "text": [
      "1\n"
     ]
    }
   ],
   "source": [
    "print(pos_index[\"CM000276.3:35088\"])"
   ]
  },
  {
   "cell_type": "code",
   "execution_count": 6,
   "id": "0b685853",
   "metadata": {},
   "outputs": [
    {
     "name": "stdout",
     "output_type": "stream",
     "text": [
      "                    barcode\n",
      "0        AAACCCAAGAAACCAT-1\n",
      "1        AAACCCAAGAAACCCA-1\n",
      "2        AAACCCAAGAAACGAA-1\n",
      "3        AAACCCAAGAAACTAC-1\n",
      "4        AAACCCAAGAAACTCA-1\n",
      "...                     ...\n",
      "1662664  TTTGTTGTCTTGTTAC-1\n",
      "1662665  TTTGTTGTCTTTAGGA-1\n",
      "1662666  TTTGTTGTCTTTCTTC-1\n",
      "1662667  TTTGTTGTCTTTGCAT-1\n",
      "1662668  TTTGTTGTCTTTGCGC-1\n",
      "\n",
      "[1662669 rows x 1 columns]\n"
     ]
    }
   ],
   "source": [
    "barcodetable = pd.read_table(\"/home/robbenm/LuberLab/Beetle/CellRanger_out/feature/barcodes.tsv\", header=None, sep=' ', names=['barcode'])\n",
    "print(barcodetable)\n",
    "barcode_index = {}\n",
    "for index, row in barcodetable.iterrows():\n",
    "    barcode_index[row['barcode']] = index;"
   ]
  },
  {
   "cell_type": "code",
   "execution_count": 7,
   "id": "2003dd8e",
   "metadata": {},
   "outputs": [],
   "source": [
    "## Generate dok arrays to store the data\n",
    "# cells x positions\n",
    "ncells = barcodetable.shape[0];\n",
    "npositions = postable.shape[0];\n",
    "# dok arrays allow fast access\n",
    "refarray = scipy.sparse.dok_matrix((ncells,npositions),'uint32')\n",
    "altarray = scipy.sparse.dok_matrix((ncells,npositions),'uint32')\n",
    "covarray = scipy.sparse.dok_matrix((ncells,npositions),'uint32')"
   ]
  },
  {
   "cell_type": "code",
   "execution_count": 8,
   "id": "e4eedda1",
   "metadata": {},
   "outputs": [
    {
     "name": "stderr",
     "output_type": "stream",
     "text": [
      "[W::hts_idx_load3] The index file is older than the data file: /home/data/beetle/Demetra/10x9/outs/possorted_genome_bam.bam.bai\n",
      "[W::hts_idx_load3] The index file is older than the data file: /home/data/beetle/Demetra/10x9/outs/possorted_genome_bam.bam.bai\n"
     ]
    }
   ],
   "source": [
    "samfile = pysam.AlignmentFile(\"/home/data/beetle/Demetra/10x9/outs/possorted_genome_bam.bam\",\"rb\")\n",
    "depth = samfile.pileup(max_depth=999999)"
   ]
  },
  {
   "cell_type": "code",
   "execution_count": 10,
   "id": "efbf8c12",
   "metadata": {},
   "outputs": [
    {
     "name": "stdout",
     "output_type": "stream",
     "text": [
      "."
     ]
    },
    {
     "name": "stderr",
     "output_type": "stream",
     "text": [
      "[W::hts_idx_load3] The index file is older than the data file: /home/data/beetle/Demetra/10x9/outs/possorted_genome_bam.bam.bai\n"
     ]
    },
    {
     "name": "stdout",
     "output_type": "stream",
     "text": [
      "......................................................................................................................................................................................................................................................................................................................................................................................................................................................................................................................................................................................................................................................................................................................................................................................................................................................................................................................................................................................................................................................................................................................................................................................................................................................................................................................................................................................................................................................................................................................................................................................................................."
     ]
    }
   ],
   "source": [
    "i=0;\n",
    "for pileupcolumn in samfile.pileup(max_depth=999999):\n",
    "    i += 1;\n",
    "    if (i % 100000 == 0):\n",
    "        sys.stdout.write('.');\n",
    "        sys.stdout.flush();\n",
    "    posindex = str(pileupcolumn.reference_name) +':' + str(pileupcolumn.reference_pos + 1 ); # +1 for correct coordinates\n",
    "    if posindex in pos_index:\n",
    "        posi = pos_index[posindex];\n",
    "        refallele = postable.iloc[posi,]['ref']\n",
    "        altallele = postable.iloc[posi,]['alt']\n",
    "        for pileupread in pileupcolumn.pileups:\n",
    "            if not pileupread.is_del and not pileupread.is_refskip:\n",
    "                try:\n",
    "                    cbtagvalue  = pileupread.alignment.get_tag('CB')\n",
    "                    if cbtagvalue in barcode_index:\n",
    "                        barcodei = barcode_index[cbtagvalue];\n",
    "                        readbase = pileupread.alignment.query_sequence[pileupread.query_position];\n",
    "                        covarray[barcodei,posi] += 1;\n",
    "                        if (refallele == readbase):\n",
    "                            refarray[barcodei,posi] += 1;\n",
    "                        elif (altallele == readbase):\n",
    "                            altarray[barcodei,posi] += 1;\n",
    "                except:\n",
    "                    pass"
   ]
  },
  {
   "cell_type": "code",
   "execution_count": 11,
   "id": "5b47f0a6",
   "metadata": {},
   "outputs": [
    {
     "name": "stdout",
     "output_type": "stream",
     "text": [
      "  (1537418, 0)\t1.0\n",
      "  (1408395, 0)\t1.0\n",
      "  (1579078, 0)\t1.0\n",
      "  (1072143, 0)\t1.0\n",
      "  (1638892, 1)\t3.0\n",
      "  (1267388, 2)\t1.0\n",
      "  (573530, 3)\t3.0\n",
      "  (12183, 4)\t3.0\n",
      "  (1595917, 5)\t3.0\n",
      "  (1361201, 5)\t2.0\n",
      "  (1477969, 6)\t5.0\n",
      "  (784610, 6)\t1.0\n",
      "  (1477969, 7)\t4.0\n",
      "  (784610, 7)\t1.0\n",
      "  (784610, 8)\t8.0\n",
      "  (1339581, 8)\t5.0\n",
      "  (654714, 8)\t2.0\n",
      "  (211703, 8)\t4.0\n",
      "  (927662, 9)\t4.0\n",
      "  (654714, 9)\t5.0\n",
      "  (927662, 10)\t5.0\n",
      "  (654714, 10)\t5.0\n",
      "  (1382278, 11)\t1.0\n",
      "  (603776, 11)\t1.0\n",
      "  (1006370, 11)\t2.0\n",
      "  :\t:\n",
      "  (342622, 107092)\t1.0\n",
      "  (1451787, 107092)\t1.0\n",
      "  (717772, 107092)\t1.0\n",
      "  (485838, 107092)\t1.0\n",
      "  (13990, 107092)\t1.0\n",
      "  (149520, 107092)\t1.0\n",
      "  (460726, 107092)\t1.0\n",
      "  (252609, 107092)\t1.0\n",
      "  (1486433, 107092)\t1.0\n",
      "  (1364333, 107092)\t1.0\n",
      "  (803903, 107092)\t1.0\n",
      "  (1469942, 107092)\t1.0\n",
      "  (423239, 107092)\t1.0\n",
      "  (588866, 107092)\t1.0\n",
      "  (1472762, 107093)\t1.0\n",
      "  (1537418, 107093)\t3.0\n",
      "  (1089313, 107093)\t1.0\n",
      "  (883792, 107093)\t2.0\n",
      "  (1472762, 107094)\t1.0\n",
      "  (1537418, 107094)\t3.0\n",
      "  (1089313, 107094)\t1.0\n",
      "  (883792, 107094)\t2.0\n",
      "  (1537418, 107095)\t3.0\n",
      "  (1089313, 107095)\t1.0\n",
      "  (883792, 107095)\t2.0\n"
     ]
    }
   ],
   "source": [
    "print(covarray)"
   ]
  },
  {
   "cell_type": "code",
   "execution_count": null,
   "id": "d7e70f0d",
   "metadata": {},
   "outputs": [],
   "source": []
  },
  {
   "cell_type": "code",
   "execution_count": null,
   "id": "62377bb2",
   "metadata": {},
   "outputs": [],
   "source": []
  },
  {
   "cell_type": "code",
   "execution_count": null,
   "id": "97cd1581",
   "metadata": {},
   "outputs": [],
   "source": []
  }
 ],
 "metadata": {
  "kernelspec": {
   "display_name": "Python 3 (ipykernel)",
   "language": "python",
   "name": "python3"
  },
  "language_info": {
   "codemirror_mode": {
    "name": "ipython",
    "version": 3
   },
   "file_extension": ".py",
   "mimetype": "text/x-python",
   "name": "python",
   "nbconvert_exporter": "python",
   "pygments_lexer": "ipython3",
   "version": "3.8.10"
  }
 },
 "nbformat": 4,
 "nbformat_minor": 5
}
